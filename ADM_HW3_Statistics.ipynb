{
 "cells": [
  {
   "cell_type": "markdown",
   "metadata": {},
   "source": [
    "# Songs statistics"
   ]
  },
  {
   "cell_type": "markdown",
   "metadata": {},
   "source": [
    "We performed some statistics in order to understand the songs we stored on MongoDB."
   ]
  },
  {
   "cell_type": "code",
   "execution_count": 8,
   "metadata": {
    "collapsed": true
   },
   "outputs": [],
   "source": [
    "import os\n",
    "import json\n",
    "import seaborn as sns\n",
    "from nltk.tokenize import RegexpTokenizer\n",
    "from nltk.corpus import stopwords\n",
    "import os.path\n",
    "from collections import Counter\n",
    "from nltk.stem.snowball import SnowballStemmer\n",
    "from nltk.corpus import wordnet\n",
    "import matplotlib.pyplot as plt\n",
    "from nameparser import HumanName\n",
    "import pymongo\n",
    "from pymongo import MongoClient"
   ]
  },
  {
   "cell_type": "markdown",
   "metadata": {
    "collapsed": true
   },
   "source": [
    "   ## Artist with most songs from MongoDB"
   ]
  },
  {
   "cell_type": "markdown",
   "metadata": {},
   "source": [
    "We are looking for the artist who wrote the largest number of songs.\n",
    "First things first, we created a list with all the artists and then, using collections.Counter(), we printed what we were looking for.\n",
    "\n",
    "At the top of the list we see David Bowie, with 210 songs written, that is because he had started to produce songs in 1962 and his activity period ended in 2016. Most of his songs were written in 80's and 90's when the music began to be distributed to a large public."
   ]
  },
  {
   "cell_type": "code",
   "execution_count": 13,
   "metadata": {},
   "outputs": [
    {
     "data": {
      "text/plain": [
       "[('David Bowie', 210),\n",
       " ('Various Artists', 209),\n",
       " ('Dolly Parton', 209),\n",
       " ('Frank Sinatra', 209),\n",
       " ('Eminem', 208),\n",
       " ('Elton John', 208),\n",
       " ('Snoop Dogg', 207),\n",
       " ('Lil Wayne', 207),\n",
       " ('Rolling Stones', 206),\n",
       " ('Bob Dylan', 205)]"
      ]
     },
     "execution_count": 13,
     "metadata": {},
     "output_type": "execute_result"
    }
   ],
   "source": [
    "client = MongoClient(\"localhost\",27017)\n",
    "db = client[\"songs\"]\n",
    "collection = db[\"LyricsDB\"]\n",
    "\n",
    "cursor = db[\"LyricsDB\"].find({})\n",
    "artist_list=[]\n",
    "for doc in cursor:\n",
    "    artist_list.append(doc[\"Info\"][\"artist\"])\n",
    "\n",
    "#counter\n",
    "count_artist=Counter()\n",
    "for artist in artist_list:\n",
    "    count_artist[artist]+=1\n",
    "ordin=sorted(count_artist.items(), key=lambda x:x[1], reverse=True)\n",
    "count_artist.most_common(10)"
   ]
  },
  {
   "cell_type": "code",
   "execution_count": 14,
   "metadata": {},
   "outputs": [],
   "source": [
    "histlist_total=[]\n",
    "for i in range(0,len(ordin)):\n",
    "    histlist_total.append(ordin[i][1])"
   ]
  },
  {
   "cell_type": "code",
   "execution_count": 15,
   "metadata": {},
   "outputs": [
    {
     "data": {
      "image/png": "[encoded data removed]",
      "text/plain": [
       "<matplotlib.figure.Figure at 0x25dee8690b8>"
      ]
     },
     "metadata": {},
     "output_type": "display_data"
    }
   ],
   "source": [
    "sns.set_style(\"darkgrid\")\n",
    "sns.set_context({\"figure.figsize\": (6, 4)})\n",
    "\n",
    "fig, ax = plt.subplots()\n",
    "sns.distplot(histlist_total,  color=\"dodgerblue\", kde=True,\n",
    "kde_kws={\"color\": \"darkblue\", \"alpha\":0.3, \"linewidth\": 5, \"shade\":True })\n",
    "sns.despine(left=True)\n",
    "plt.xlabel(\"Number of songs\", fontsize=12)\n",
    "plt.ylabel(\"Artist freq\", fontsize=12)\n",
    "#plt.legend(prop={'size':16})\n",
    "plt.title(\"Number of songs per artist\", fontsize = 16)\n",
    "plt.xticks((0,25,50,75,100,125,150,175,200,225))\n",
    "\n",
    "plt.show()"
   ]
  },
  {
   "cell_type": "markdown",
   "metadata": {},
   "source": [
    "As we can see from the plot, most of the artists wrote from 1 to 25 songs.\n",
    "Similarly, there is another peak around 200 songs as we could imagine looking at the previous list where all the artists had written more than 200 songs.\n",
    "\n",
    "Anyway, we can say that the large part of the distribution is between 1 and 75 songs written per artist."
   ]
  },
  {
   "cell_type": "markdown",
   "metadata": {},
   "source": [
    "## Longer song from MongoDB"
   ]
  },
  {
   "cell_type": "markdown",
   "metadata": {},
   "source": [
    "After we removed the albums from the barplot that is the result we got.\n",
    "The longer song is Alice's Restaurant by Arlo Guthrie, as the bar plot shows, with the other nine longer songs.\n",
    "\n",
    "On the other hand, in the histogram, we did not remove the albums and, as we can see from the plot, most of the songs are concentrated in the first part of the ditribution which is asymmetric with a long tail on the right and a mean around 1500 words."
   ]
  },
  {
   "cell_type": "code",
   "execution_count": 19,
   "metadata": {},
   "outputs": [
    {
     "data": {
      "text/plain": [
       "'Billy The Mountain'"
      ]
     },
     "execution_count": 19,
     "metadata": {},
     "output_type": "execute_result"
    }
   ],
   "source": [
    "client = MongoClient(\"localhost\",27017)\n",
    "db = client[\"songs\"]\n",
    "collection = db[\"LyricsDB\"]\n",
    "cursor = db[\"LyricsDB\"].find({})\n",
    "\n",
    "lyric_list=[]\n",
    "title_list=[]\n",
    "id_list=[]\n",
    "for doc in cursor:\n",
    "    lyric_list.append(doc[\"Info\"][\"lyrics\"])\n",
    "    title_list.append(doc[\"Info\"][\"title\"])\n",
    "    id_list.append(doc[\"_id\"])\n",
    "\n",
    "res=zip(title_list, lyric_list, id_list)\n",
    "ziplist=list(res)\n",
    "\n",
    "count_lyric=Counter()\n",
    "for i,j,k in ziplist:\n",
    "    for word in j:\n",
    "        count_lyric[i,k]+=1\n",
    "\n",
    "ordin_lyr=sorted(count_lyric.items(), key=lambda x:x[1], reverse=True)\n",
    "histlist_lyr=[]\n",
    "for i in range(0,16):\n",
    "    histlist_lyr.append(ordin_lyr[i][1])\n",
    "\n",
    "#remove the albums\n",
    "histlist_lyr.pop(0)\n",
    "histlist_lyr.pop(0)\n",
    "histlist_lyr.pop(0)\n",
    "histlist_lyr.pop(0)\n",
    "histlist_lyr.pop(0)\n",
    "histlist_lyr.pop(0)\n",
    "\n",
    "histtick_lyr=[]\n",
    "for i in range(0,16):\n",
    "    histtick_lyr.append(ordin_lyr[i][0][0])\n",
    "\n",
    "#remove the albums\n",
    "histtick_lyr.pop(0)\n",
    "histtick_lyr.pop(0)\n",
    "histtick_lyr.pop(0)\n",
    "histtick_lyr.pop(0)\n",
    "histtick_lyr.pop(0)\n",
    "histtick_lyr.pop(0)\n"
   ]
  },
  {
   "cell_type": "code",
   "execution_count": 18,
   "metadata": {},
   "outputs": [
    {
     "data": {
      "image/png": "[encoded data removed]",
      "text/plain": [
       "<matplotlib.figure.Figure at 0x25da527d198>"
      ]
     },
     "metadata": {},
     "output_type": "display_data"
    }
   ],
   "source": [
    "#barplot with the ten songs longest\n",
    "sns.set_style(\"darkgrid\")\n",
    "sns.set_context({\"figure.figsize\": (6, 4)})\n",
    "\n",
    "fig, ax = plt.subplots()\n",
    "sns.barplot(x= histlist_lyr, y = histtick_lyr,  color=\"dodgerblue\", alpha = .8)\n",
    "sns.despine(left=True)\n",
    "plt.xlabel(\"Lyric length in words\", fontsize=12)\n",
    "plt.ylabel(\"Songs\", fontsize=12)\n",
    "plt.title(\"Songs length\", fontsize = 16)\n",
    "\n",
    "plt.show()"
   ]
  },
  {
   "cell_type": "code",
   "execution_count": 20,
   "metadata": {},
   "outputs": [
    {
     "data": {
      "image/png": "[encoded data removed]",
      "text/plain": [
       "<matplotlib.figure.Figure at 0x25da5371780>"
      ]
     },
     "metadata": {},
     "output_type": "display_data"
    }
   ],
   "source": [
    "#histogram of songs length\n",
    "\n",
    "histlist_song=[]\n",
    "for i in range(0,len(ordin_lyr)):\n",
    "    histlist_song.append(ordin_lyr[i][1])\n",
    "    \n",
    "sns.set_style(\"darkgrid\")\n",
    "sns.set_context({\"figure.figsize\": (6, 4)})\n",
    "\n",
    "fig, ax = plt.subplots()\n",
    "sns.distplot(histlist_song,  color=\"dodgerblue\", kde=True,\n",
    "kde_kws={\"color\": \"darkblue\", \"alpha\":0.15, \"linewidth\": 5, \"shade\":True })\n",
    "sns.despine(left=True)\n",
    "plt.xlabel(\"Songs freq\", fontsize=12)\n",
    "plt.ylabel(\"Word per song\", fontsize=12)\n",
    "plt.title(\"Songs length\", fontsize = 16)\n",
    "\n",
    "plt.show()"
   ]
  },
  {
   "cell_type": "markdown",
   "metadata": {
    "collapsed": true
   },
   "source": [
    "## Most popular words"
   ]
  },
  {
   "cell_type": "markdown",
   "metadata": {},
   "source": [
    "The 20 most popular words, with their occurance, are:\n",
    "('love', 106161),\n",
    " ('know', 95241),\n",
    " ('like', 89461),\n",
    " ('got', 73633),\n",
    " ('get', 66706),\n",
    " ('oh', 58479),\n",
    " ('want', 55371),\n",
    " ('one', 54559),\n",
    " ('never', 52199),\n",
    " ('go', 50722),\n",
    " ('see', 49323),\n",
    " ('let', 45861),\n",
    " ('time', 45552),\n",
    " ('come', 43807),\n",
    " ('make', 41495),\n",
    " ('baby', 40729),\n",
    " ('say', 38834),\n",
    " ('take', 36994),\n",
    " ('cause', 36793),\n",
    " ('way', 36155).\n",
    " \n",
    "What is evident is that _love_ is the main theme for the songs we stored, not only because it is the most fequent word in the lyrics but even because it could be linked to other words such as _like_ or _baby_ which are both in the top 20 list."
   ]
  },
  {
   "cell_type": "code",
   "execution_count": 1,
   "metadata": {
    "collapsed": true
   },
   "outputs": [],
   "source": [
    "def wordNorm(text):\n",
    "    # Text normalizer: split the text in array without all spaces, stopwords, numbers\n",
    "    new_text = []\n",
    "    tokenizer = RegexpTokenizer(r'\\w+')\n",
    "    word_list = tokenizer.tokenize(text.lower())\n",
    "    filtered_words = [word for word in word_list if word not in stopwords.words('english')]\n",
    "    for word in filtered_words:\n",
    "        if not word.isdigit() and len(word)>1 and wordnet.synsets(word):\n",
    "            new_text.append(str(word))\n",
    "    return(new_text)"
   ]
  },
  {
   "cell_type": "code",
   "execution_count": 6,
   "metadata": {},
   "outputs": [],
   "source": [
    "client = MongoClient(\"localhost\",27017)\n",
    "db = client[\"songs\"]\n",
    "collection = db[\"LyricsDB\"]\n",
    "cursor = db[\"LyricsDB\"].find({}, no_cursor_timeout=True)\n",
    "\n",
    "lyric_list=[]\n",
    "for doc in cursor:\n",
    "    try:\n",
    "        lyric_list.append(doc[\"Info\"][\"lyrics\"])\n",
    "    except:\n",
    "        continue\n",
    "#print(lyric_list_norm)"
   ]
  },
  {
   "cell_type": "code",
   "execution_count": 9,
   "metadata": {},
   "outputs": [],
   "source": [
    "lyric_list_norm=[]\n",
    "for lyric in lyric_list:\n",
    "    lyric=wordNorm(lyric)\n",
    "    lyric_list_norm.append(lyric)"
   ]
  },
  {
   "cell_type": "code",
   "execution_count": 11,
   "metadata": {},
   "outputs": [
    {
     "data": {
      "text/plain": [
       "[('love', 106161),\n",
       " ('know', 95241),\n",
       " ('like', 89461),\n",
       " ('got', 73633),\n",
       " ('get', 66706),\n",
       " ('oh', 58479),\n",
       " ('want', 55371),\n",
       " ('one', 54559),\n",
       " ('never', 52199),\n",
       " ('go', 50722),\n",
       " ('see', 49323),\n",
       " ('let', 45861),\n",
       " ('time', 45552),\n",
       " ('come', 43807),\n",
       " ('make', 41495),\n",
       " ('baby', 40729),\n",
       " ('say', 38834),\n",
       " ('take', 36994),\n",
       " ('cause', 36793),\n",
       " ('way', 36155)]"
      ]
     },
     "execution_count": 11,
     "metadata": {},
     "output_type": "execute_result"
    }
   ],
   "source": [
    "#returns the songs with the longer lyrics\n",
    "count_word=Counter()\n",
    "for lyric in lyric_list_norm:\n",
    "    for word in lyric:\n",
    "        count_word[word]+=1\n",
    "count_word.most_common(20)"
   ]
  },
  {
   "cell_type": "markdown",
   "metadata": {},
   "source": [
    "## Most common singers name"
   ]
  },
  {
   "cell_type": "markdown",
   "metadata": {},
   "source": [
    "As showed in the bar plot, the most common singers names are _Tom, George, John, Michael, Kenny, Bob, Neil, Chris, Paul_ and_ Frank_."
   ]
  },
  {
   "cell_type": "code",
   "execution_count": 21,
   "metadata": {},
   "outputs": [],
   "source": [
    "name_list=[]\n",
    "for i in artist_list:\n",
    "    k=HumanName(i)\n",
    "    name_list.append(k.first)"
   ]
  },
  {
   "cell_type": "code",
   "execution_count": 22,
   "metadata": {
    "collapsed": true
   },
   "outputs": [],
   "source": [
    "count_name=Counter()\n",
    "for name in name_list:\n",
    "    count_name[name]+=1"
   ]
  },
  {
   "cell_type": "code",
   "execution_count": 25,
   "metadata": {},
   "outputs": [
    {
     "data": {
      "text/plain": [
       "'The'"
      ]
     },
     "execution_count": 25,
     "metadata": {},
     "output_type": "execute_result"
    }
   ],
   "source": [
    "ordin_name=sorted(count_name.items(), key=lambda x:x[1], reverse=True)\n",
    "histlist_name=[]\n",
    "for i in range(0,11):\n",
    "    histlist_name.append(ordin_name[i+1][1])\n",
    "histlist_name.pop(2)\n",
    "histtick_name=[]\n",
    "for i in range(0,11):\n",
    "    histtick_name.append(ordin_name[i+1][0])\n",
    "histtick_name.pop(2)"
   ]
  },
  {
   "cell_type": "code",
   "execution_count": 24,
   "metadata": {},
   "outputs": [
    {
     "data": {
      "image/png": "[encoded data removed]",
      "text/plain": [
       "<matplotlib.figure.Figure at 0x25da5548390>"
      ]
     },
     "metadata": {},
     "output_type": "display_data"
    }
   ],
   "source": [
    "sns.set_style(\"darkgrid\")\n",
    "sns.set_context({\"figure.figsize\": (6, 4)})\n",
    "\n",
    "fig, ax = plt.subplots()\n",
    "sns.barplot(x= histlist_name, y = histtick_name,  color=\"dodgerblue\", alpha = .8)\n",
    "sns.despine(left=True)\n",
    "plt.xlabel(\"Names freq\", fontsize=12)\n",
    "plt.ylabel(\"Names\", fontsize=12)\n",
    "plt.title(\"Singers names\", fontsize = 16)\n",
    "\n",
    "plt.show()"
   ]
  }
 ],
 "metadata": {
  "kernelspec": {
   "display_name": "Python 3",
   "language": "python",
   "name": "python3"
  },
  "language_info": {
   "codemirror_mode": {
    "name": "ipython",
    "version": 3
   },
   "file_extension": ".py",
   "mimetype": "text/x-python",
   "name": "python",
   "nbconvert_exporter": "python",
   "pygments_lexer": "ipython3",
   "version": "3.6.1"
  }
 },
 "nbformat": 4,
 "nbformat_minor": 2
}
